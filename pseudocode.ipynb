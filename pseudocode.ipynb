{
 "cells": [
  {
   "cell_type": "code",
   "execution_count": 5,
   "metadata": {},
   "outputs": [],
   "source": [
    "# import sys\n",
    "# !{sys.executable} -m pip install gumpy\n",
    "# !{sys.executable} -m pip install piezo"
   ]
  },
  {
   "cell_type": "code",
   "execution_count": 3,
   "metadata": {},
   "outputs": [],
   "source": [
    "import gumpy, piezo, numpy, copy, random"
   ]
  },
  {
   "cell_type": "code",
   "execution_count": 4,
   "metadata": {},
   "outputs": [],
   "source": [
    "gene = 'pncA'\n",
    "drug = 'PZA'\n",
    "catalogue_file = 'NC_000962.3_WHO-UCN-GTB-PCI-2021.7_v1.0_GARC1_RUS.csv'"
   ]
  },
  {
   "cell_type": "markdown",
   "metadata": {},
   "source": [
    "Some lookup `dict` and `list`s we will need later to translate from codons to amino acids and vice versa"
   ]
  },
  {
   "cell_type": "code",
   "execution_count": 6,
   "metadata": {},
   "outputs": [],
   "source": [
    "aminoacids = 'FFLLSSSSYY!!CC!WLLLLPPPPHHQQRRRRIIIMTTTTNNKKSSRRVVVVAAAADDEEGGGG'\n",
    "bases = ['t', 'c', 'a', 'g']\n",
    "all_codons = numpy.array([a+b+c for a in bases for b in bases for c in bases])\n",
    "codon_to_amino_acid = dict(zip(all_codons, aminoacids))\n",
    "amino_acid_to_codon={}\n",
    "for i,j in zip(aminoacids, all_codons):\n",
    "    if i in amino_acid_to_codon:\n",
    "        amino_acid_to_codon[i].append(j)\n",
    "    else:\n",
    "        amino_acid_to_codon[i] = [j]"
   ]
  },
  {
   "cell_type": "markdown",
   "metadata": {},
   "source": [
    "Here we are using a supplied catalogue to define the mutations associated with resistance"
   ]
  },
  {
   "cell_type": "code",
   "execution_count": 13,
   "metadata": {},
   "outputs": [],
   "source": [
    "catalogue = piezo.ResistanceCatalogue(catalogue_file)\n",
    "\n",
    "specific_resistance_mutations = catalogue.catalogue.rules[ (catalogue.catalogue.rules.PREDICTION=='R') &\\\n",
    "                                                          (catalogue.catalogue.rules.MUTATION_TYPE=='SNP') &\\\n",
    "                                                          (catalogue.catalogue.rules.MUTATION_AFFECTS=='CDS') &\\\n",
    "                                                          (catalogue.catalogue.rules.MUTATION.str[-1]!='!') &\\\n",
    "                                                          (catalogue.catalogue.rules.POSITION!='*')]\n",
    "\n",
    "pnca_resistant_mutations = specific_resistance_mutations[(specific_resistance_mutations.DRUG==drug) & (specific_resistance_mutations.GENE==gene)]"
   ]
  },
  {
   "cell_type": "code",
   "execution_count": 17,
   "metadata": {},
   "outputs": [
    {
     "name": "stdout",
     "output_type": "stream",
     "text": [
      "For pncA there are 154 mutations associated with resistance to PZA\n"
     ]
    }
   ],
   "source": [
    "print(\"For pncA there are %i mutations associated with resistance to PZA\" % len(pnca_resistant_mutations) )"
   ]
  },
  {
   "cell_type": "markdown",
   "metadata": {},
   "source": [
    "..where as for the susceptible mutations we are simply randomly choosing a 1SNP amino acid mutation that results in a missense mutation anywhere in the protein (except at the codons where we are introducing resistance)"
   ]
  },
  {
   "cell_type": "code",
   "execution_count": 52,
   "metadata": {},
   "outputs": [],
   "source": [
    "# TODO: explain susceptible mutation logic?? how can we call a 1SNP mutation anywhere in protein a susceptible mutation?\n",
    "\n",
    "genbank_file = 'NC_000962.3.gbk'\n",
    "n_samples = 10\n",
    "proportion_resistant = 0.5\n",
    "resistant_mutations = list(pnca_resistant_mutations.MUTATION)\n",
    "susceptible_mutations = 'uniform'\n",
    "n_res = 1\n",
    "n_sus = 1\n",
    "output = 'mutations' \n",
    "debug = False"
   ]
  },
  {
   "cell_type": "markdown",
   "metadata": {},
   "source": [
    "Now let's build the `Genome` object so we can access the genes later"
   ]
  },
  {
   "cell_type": "code",
   "execution_count": 21,
   "metadata": {},
   "outputs": [],
   "source": [
    "reference = gumpy.Genome(genbank_file)"
   ]
  },
  {
   "cell_type": "markdown",
   "metadata": {},
   "source": [
    "We are only dealing with one gene here"
   ]
  },
  {
   "cell_type": "code",
   "execution_count": 23,
   "metadata": {},
   "outputs": [],
   "source": [
    "reference_gene = reference.build_gene(gene)"
   ]
  },
  {
   "cell_type": "code",
   "execution_count": 26,
   "metadata": {},
   "outputs": [
    {
     "data": {
      "text/plain": [
       "array([  1,   2,   3,   4,   5,   6,   7,   8,   9,  10,  11,  12,  13,\n",
       "        14,  15,  16,  17,  18,  19,  20,  21,  22,  23,  24,  25,  26,\n",
       "        27,  28,  29,  30,  31,  32,  33,  34,  35,  36,  37,  38,  39,\n",
       "        40,  41,  42,  43,  44,  45,  46,  47,  48,  49,  50,  51,  52,\n",
       "        53,  54,  55,  56,  57,  58,  59,  60,  61,  62,  63,  64,  65,\n",
       "        66,  67,  68,  69,  70,  71,  72,  73,  74,  75,  76,  77,  78,\n",
       "        79,  80,  81,  82,  83,  84,  85,  86,  87,  88,  89,  90,  91,\n",
       "        92,  93,  94,  95,  96,  97,  98,  99, 100, 101, 102, 103, 104,\n",
       "       105, 106, 107, 108, 109, 110, 111, 112, 113, 114, 115, 116, 117,\n",
       "       118, 119, 120, 121, 122, 123, 124, 125, 126, 127, 128, 129, 130,\n",
       "       131, 132, 133, 134, 135, 136, 137, 138, 139, 140, 141, 142, 143,\n",
       "       144, 145, 146, 147, 148, 149, 150, 151, 152, 153, 154, 155, 156,\n",
       "       157, 158, 159, 160, 161, 162, 163, 164, 165, 166, 167, 168, 169,\n",
       "       170, 171, 172, 173, 174, 175, 176, 177, 178, 179, 180, 181, 182,\n",
       "       183, 184, 185, 186, 187])"
      ]
     },
     "execution_count": 26,
     "metadata": {},
     "output_type": "execute_result"
    }
   ],
   "source": [
    "reference_gene.amino_acid_number"
   ]
  },
  {
   "cell_type": "markdown",
   "metadata": {},
   "source": [
    "Because we want to produce `n_samples` we have to wrap it all in a big `for` loop..."
   ]
  },
  {
   "cell_type": "code",
   "execution_count": 53,
   "metadata": {},
   "outputs": [
    {
     "name": "stdout",
     "output_type": "stream",
     "text": [
      "SAMPLE 0, LABEL R, 2 resistant mutations, 2 susceptible mutations\n",
      "A20G\n",
      "I90T\n",
      "K96Q\n",
      "T160R\n"
     ]
    }
   ],
   "source": [
    "for n_sample in range(n_samples):\n",
    "\n",
    "    # let's take a deepcopy so we don't accidentally alter the reference\n",
    "    sample_gene = copy.deepcopy(reference_gene)\n",
    "\n",
    "    # WORK OUT RESISTANT MUTATIONS\n",
    "    if random.random() < proportion_resistant:\n",
    "        label='R'\n",
    "        if debug:\n",
    "            print('Resistant Sample!')\n",
    "        # assuming that a Poisson distribution describes the expected number\n",
    "        number_resistant = numpy.random.poisson(n_res)\n",
    "    else:\n",
    "        label='S'\n",
    "        if debug:\n",
    "            print('Susceptible Sample!')\n",
    "        number_resistant = 0\n",
    "\n",
    "    # choose the resistant mutations we want to incorporate\n",
    "    selected_resistant_mutations = random.choices(resistant_mutations, k=number_resistant)\n",
    "\n",
    "    if debug:\n",
    "        print(\"R: \", selected_resistant_mutations)\n",
    "\n",
    "    # first, identify the codons being mutated as we will want to avoid these for susceptible mutations\n",
    "    positions_altered = []\n",
    "    for mutation in selected_resistant_mutations:\n",
    "        aa_pos = int(mutation[1:-1])\n",
    "        positions_altered.append(aa_pos)\n",
    "\n",
    "    # Get amino acid positions that are not altered by selected resistant mutations\n",
    "    remaining_aa_positions = sample_gene.amino_acid_number[~numpy.isin(sample_gene.amino_acid_number, positions_altered)]\n",
    "\n",
    "    # WORK OUT SUSCEPTIBLE MUTATIONS\n",
    "    number_susceptible = numpy.random.poisson(n_sus)\n",
    "\n",
    "    selected_susceptible_mutations = []\n",
    "\n",
    "    # now randomly choose some susceptible mutations (i.e. \"uniformly\")\n",
    "    for susceptible_codon in random.choices(remaining_aa_positions, k=number_susceptible):\n",
    "        \n",
    "        ref_codon = sample_gene.codons[sample_gene.amino_acid_number==susceptible_codon][0]\n",
    "        ref_aa = codon_to_amino_acid[ref_codon]\n",
    "\n",
    "        possible_alt_aa = []\n",
    "\n",
    "        for alt_codon in codon_to_amino_acid:\n",
    "\n",
    "            # no synoymous mutations\n",
    "            if codon_to_amino_acid[alt_codon] != ref_aa:\n",
    "                possible_aa = codon_to_amino_acid[alt_codon]\n",
    "\n",
    "                # no premature Stop codons -- may want to make this a parameter in future\n",
    "                if possible_aa != \"!\":                \n",
    "                    n_snps = sum(1 for a, b in zip(ref_codon, alt_codon) if a != b)\n",
    "\n",
    "                    # only look for SNPs and mutations not in our list of resistance associated mutations\n",
    "                    if n_snps == 1 and possible_aa not in resistant_mutations:\n",
    "                        possible_alt_aa.append(possible_aa)\n",
    "\n",
    "        if debug:\n",
    "            print('Possible alternate amino acid for susceptible mutation:', possible_alt_aa)\n",
    "\n",
    "        alt_aa = random.choice(possible_alt_aa)\n",
    "\n",
    "        alt_mutation = ref_aa + str(susceptible_codon) + alt_aa\n",
    "\n",
    "        selected_susceptible_mutations.append(alt_mutation)\n",
    "\n",
    "    if debug:\n",
    "        print(\"S: \", selected_susceptible_mutations)\n",
    "\n",
    "    selected_mutations = selected_resistant_mutations + selected_susceptible_mutations\n",
    "\n",
    "\n",
    "    # INTRODUCE MUTATIONS TO GENE\n",
    "    for mutation in selected_mutations:\n",
    "\n",
    "        ref_aa = mutation[0]\n",
    "        alt_aa = mutation[-1]\n",
    "        aa_pos = int(mutation[1:-1])\n",
    "\n",
    "        if debug:\n",
    "            print(mutation)\n",
    "\n",
    "        ref_codon = sample_gene.codons[sample_gene.amino_acid_number==aa_pos][0]\n",
    "    \n",
    "    #! Work out what this is doing?\n",
    "        alt_codon=None\n",
    "        for codon in amino_acid_to_codon[alt_aa]:\n",
    "            counter = sum(1 for a, b in zip(ref_codon, codon) if a != b)\n",
    "            if counter==1:\n",
    "                alt_codon = codon\n",
    "                break\n",
    "\n",
    "        base_pos = 3*aa_pos -2\n",
    "        for i,j in zip(ref_codon, alt_codon):\n",
    "            if i!=j:\n",
    "                ref_base = i\n",
    "                alt_base = j\n",
    "                break\n",
    "            base_pos+=1\n",
    "\n",
    "        assert reference_gene.nucleotide_sequence[reference_gene.nucleotide_number==base_pos][0] == ref_base\n",
    "\n",
    "        sample_gene.nucleotide_sequence[sample_gene.nucleotide_number==base_pos] = alt_base\n",
    "    #!\n",
    "    \n",
    "    sample_gene._translate_sequence()\n",
    "    print(\"SAMPLE %i, LABEL %s, %i resistant mutations, %i susceptible mutations\" % (n_sample, label, number_resistant, number_susceptible))\n",
    "    if output == 'allele':\n",
    "        sample_amino_acid_sequence = ''.join(i for i in sample_gene.amino_acid_sequence)\n",
    "        print(sample_amino_acid_sequence)\n",
    "    elif output == 'mutations':\n",
    "        diff = reference_gene - sample_gene\n",
    "        for i in diff.mutations:\n",
    "            print(i)\n",
    "    else:\n",
    "        raise ValueError('output can only be one of allele or mutations!')\n",
    "    \n",
    "    break\n"
   ]
  },
  {
   "cell_type": "code",
   "execution_count": null,
   "metadata": {},
   "outputs": [],
   "source": []
  }
 ],
 "metadata": {
  "kernelspec": {
   "display_name": "Python 3",
   "language": "python",
   "name": "python3"
  },
  "language_info": {
   "codemirror_mode": {
    "name": "ipython",
    "version": 3
   },
   "file_extension": ".py",
   "mimetype": "text/x-python",
   "name": "python",
   "nbconvert_exporter": "python",
   "pygments_lexer": "ipython3",
   "version": "3.11.6"
  }
 },
 "nbformat": 4,
 "nbformat_minor": 2
}
