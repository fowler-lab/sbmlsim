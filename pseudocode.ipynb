{
 "cells": [
  {
   "cell_type": "code",
   "execution_count": 22,
   "metadata": {},
   "outputs": [],
   "source": [
    "# import sys\n",
    "# !{sys.executable} -m pip install gumpy\n",
    "# !{sys.executable} -m pip install piezo"
   ]
  },
  {
   "cell_type": "code",
   "execution_count": 39,
   "metadata": {},
   "outputs": [],
   "source": [
    "import gumpy, piezo, numpy, copy, random, pandas as pd"
   ]
  },
  {
   "cell_type": "code",
   "execution_count": 24,
   "metadata": {},
   "outputs": [],
   "source": [
    "gene = 'pncA'\n",
    "drug = 'PZA'\n",
    "catalogue_file = 'NC_000962.3_WHO-UCN-GTB-PCI-2021.7_v1.0_GARC1_RUS.csv'"
   ]
  },
  {
   "cell_type": "markdown",
   "metadata": {},
   "source": [
    "Some lookup `dict` and `list`s we will need later to translate from codons to amino acids and vice versa"
   ]
  },
  {
   "cell_type": "code",
   "execution_count": 25,
   "metadata": {},
   "outputs": [],
   "source": [
    "aminoacids = 'FFLLSSSSYY!!CC!WLLLLPPPPHHQQRRRRIIIMTTTTNNKKSSRRVVVVAAAADDEEGGGG'\n",
    "bases = ['t', 'c', 'a', 'g']\n",
    "all_codons = numpy.array([a+b+c for a in bases for b in bases for c in bases])\n",
    "codon_to_amino_acid = dict(zip(all_codons, aminoacids))\n",
    "amino_acid_to_codon={}\n",
    "for i,j in zip(aminoacids, all_codons):\n",
    "    if i in amino_acid_to_codon:\n",
    "        amino_acid_to_codon[i].append(j)\n",
    "    else:\n",
    "        amino_acid_to_codon[i] = [j]"
   ]
  },
  {
   "cell_type": "markdown",
   "metadata": {},
   "source": [
    "Here we are using a supplied catalogue to define the mutations associated with resistance"
   ]
  },
  {
   "cell_type": "code",
   "execution_count": 26,
   "metadata": {},
   "outputs": [],
   "source": [
    "catalogue = piezo.ResistanceCatalogue(catalogue_file)\n",
    "\n",
    "specific_resistance_mutations = catalogue.catalogue.rules[ (catalogue.catalogue.rules.PREDICTION=='R') &\\\n",
    "                                                          (catalogue.catalogue.rules.MUTATION_TYPE=='SNP') &\\\n",
    "                                                          (catalogue.catalogue.rules.MUTATION_AFFECTS=='CDS') &\\\n",
    "                                                          (catalogue.catalogue.rules.MUTATION.str[-1]!='!') &\\\n",
    "                                                          (catalogue.catalogue.rules.POSITION!='*')]\n",
    "\n",
    "pnca_resistant_mutations = specific_resistance_mutations[(specific_resistance_mutations.DRUG==drug) & (specific_resistance_mutations.GENE==gene)]"
   ]
  },
  {
   "cell_type": "code",
   "execution_count": 27,
   "metadata": {},
   "outputs": [
    {
     "name": "stdout",
     "output_type": "stream",
     "text": [
      "For pncA there are 154 mutations associated with resistance to PZA\n"
     ]
    }
   ],
   "source": [
    "print(\"For pncA there are %i mutations associated with resistance to PZA\" % len(pnca_resistant_mutations) )"
   ]
  },
  {
   "cell_type": "markdown",
   "metadata": {},
   "source": [
    "..where as for the susceptible mutations we are simply randomly choosing a 1SNP amino acid mutation that results in a missense mutation anywhere in the protein (except at the codons where we are introducing resistance)"
   ]
  },
  {
   "cell_type": "code",
   "execution_count": 33,
   "metadata": {},
   "outputs": [],
   "source": [
    "#* PARAMS\n",
    "\n",
    "genbank_file = 'NC_000962.3.gbk'\n",
    "n_samples = 10\n",
    "proportion_resistant = 0.5\n",
    "resistant_mutations = list(pnca_resistant_mutations.MUTATION)\n",
    "susceptible_mutations = 'uniform'\n",
    "n_res = 1\n",
    "n_sus = 1\n",
    "output = 'mutations' \n",
    "debug = False"
   ]
  },
  {
   "cell_type": "markdown",
   "metadata": {},
   "source": [
    "Now let's build the `Genome` object so we can access the genes later"
   ]
  },
  {
   "cell_type": "code",
   "execution_count": 29,
   "metadata": {},
   "outputs": [],
   "source": [
    "reference = gumpy.Genome(genbank_file)"
   ]
  },
  {
   "cell_type": "markdown",
   "metadata": {},
   "source": [
    "We are only dealing with one gene here"
   ]
  },
  {
   "cell_type": "code",
   "execution_count": 30,
   "metadata": {},
   "outputs": [],
   "source": [
    "reference_gene = reference.build_gene(gene)"
   ]
  },
  {
   "cell_type": "markdown",
   "metadata": {},
   "source": [
    "Because we want to produce `n_samples` we have to wrap it all in a big `for` loop..."
   ]
  },
  {
   "cell_type": "code",
   "execution_count": 34,
   "metadata": {},
   "outputs": [
    {
     "name": "stdout",
     "output_type": "stream",
     "text": [
      "SAMPLE 0, LABEL R, 1 resistant mutations, 0 susceptible mutations\n",
      "M175T\n",
      "SAMPLE 1, LABEL S, 0 resistant mutations, 2 susceptible mutations\n",
      "D86N\n",
      "D166E\n",
      "SAMPLE 2, LABEL R, 1 resistant mutations, 1 susceptible mutations\n",
      "A46V\n",
      "Y64H\n",
      "SAMPLE 3, LABEL S, 0 resistant mutations, 2 susceptible mutations\n",
      "T76P\n",
      "L85V\n",
      "SAMPLE 4, LABEL S, 0 resistant mutations, 1 susceptible mutations\n",
      "D33H\n",
      "SAMPLE 5, LABEL R, 0 resistant mutations, 0 susceptible mutations\n",
      "SAMPLE 6, LABEL R, 0 resistant mutations, 2 susceptible mutations\n",
      "M1T\n",
      "V139L\n",
      "SAMPLE 7, LABEL R, 3 resistant mutations, 4 susceptible mutations\n",
      "D12A\n",
      "I31S\n",
      "A102P\n",
      "Q122P\n",
      "L151V\n",
      "T167S\n",
      "E173V\n",
      "SAMPLE 8, LABEL R, 1 resistant mutations, 1 susceptible mutations\n",
      "I133T\n",
      "T142R\n",
      "SAMPLE 9, LABEL S, 0 resistant mutations, 2 susceptible mutations\n",
      "P115R\n",
      "Q141H\n"
     ]
    }
   ],
   "source": [
    "for n_sample in range(n_samples):\n",
    "\n",
    "    # let's take a deepcopy so we don't accidentally alter the reference\n",
    "    sample_gene = copy.deepcopy(reference_gene)\n",
    "\n",
    "    #* WORK OUT RESISTANT MUTATIONS\n",
    "    if random.random() < proportion_resistant:\n",
    "        label='R'\n",
    "        if debug:\n",
    "            print('Resistant Sample!')\n",
    "        # assuming that a Poisson distribution describes the expected number\n",
    "        number_resistant = numpy.random.poisson(n_res)\n",
    "    else:\n",
    "        label='S'\n",
    "        if debug:\n",
    "            print('Susceptible Sample!')\n",
    "        number_resistant = 0\n",
    "\n",
    "    # choose the resistant mutations we want to incorporate\n",
    "    selected_resistant_mutations = random.choices(resistant_mutations, k=number_resistant)\n",
    "\n",
    "    if debug:\n",
    "        print(\"R: \", selected_resistant_mutations)\n",
    "\n",
    "    # first, identify the codons being mutated as we will want to avoid these for susceptible mutations\n",
    "    positions_altered = []\n",
    "    for mutation in selected_resistant_mutations:\n",
    "        aa_pos = int(mutation[1:-1])\n",
    "        positions_altered.append(aa_pos)\n",
    "\n",
    "    # Get amino acid positions that are not altered by selected resistant mutations\n",
    "    remaining_aa_positions = sample_gene.amino_acid_number[~numpy.isin(sample_gene.amino_acid_number, positions_altered)]\n",
    "\n",
    "    #* WORK OUT SUSCEPTIBLE MUTATIONS\n",
    "    number_susceptible = numpy.random.poisson(n_sus)\n",
    "\n",
    "    selected_susceptible_mutations = []\n",
    "\n",
    "    # now randomly choose some susceptible mutations (i.e. \"uniformly\")\n",
    "    for susceptible_codon in random.choices(remaining_aa_positions, k=number_susceptible):\n",
    "        \n",
    "        ref_codon = sample_gene.codons[sample_gene.amino_acid_number==susceptible_codon][0]\n",
    "        ref_aa = codon_to_amino_acid[ref_codon]\n",
    "\n",
    "        possible_alt_aa = []\n",
    "\n",
    "        for alt_codon in codon_to_amino_acid:\n",
    "\n",
    "            # no synoymous mutations\n",
    "            if codon_to_amino_acid[alt_codon] != ref_aa:\n",
    "                possible_aa = codon_to_amino_acid[alt_codon]\n",
    "\n",
    "                # no premature Stop codons -- may want to make this a parameter in future\n",
    "                if possible_aa != \"!\":                \n",
    "                    n_snps = sum(1 for a, b in zip(ref_codon, alt_codon) if a != b)\n",
    "\n",
    "                    # only look for SNPs and mutations not in our list of resistance associated mutations\n",
    "                    if n_snps == 1 and possible_aa not in resistant_mutations:\n",
    "                        possible_alt_aa.append(possible_aa)\n",
    "\n",
    "        if debug:\n",
    "            print('Possible alternate amino acid for susceptible mutation:', possible_alt_aa)\n",
    "\n",
    "        alt_aa = random.choice(possible_alt_aa)\n",
    "\n",
    "        alt_mutation = ref_aa + str(susceptible_codon) + alt_aa\n",
    "\n",
    "        selected_susceptible_mutations.append(alt_mutation)\n",
    "\n",
    "    if debug:\n",
    "        print(\"S: \", selected_susceptible_mutations)\n",
    "\n",
    "    selected_mutations = selected_resistant_mutations + selected_susceptible_mutations\n",
    "\n",
    "\n",
    "    #* GET MUTATIONS FOR SAMPLE GENE\n",
    "    for mutation in selected_mutations:\n",
    "\n",
    "        ref_aa = mutation[0]\n",
    "        alt_aa = mutation[-1]\n",
    "        aa_pos = int(mutation[1:-1])\n",
    "\n",
    "        if debug:\n",
    "            print(mutation)\n",
    "\n",
    "        ref_codon = sample_gene.codons[sample_gene.amino_acid_number==aa_pos][0]\n",
    "    \n",
    "    #* GET BASE CHANGES\n",
    "        alt_codon=None\n",
    "        for codon in amino_acid_to_codon[alt_aa]:\n",
    "            counter = sum(1 for a, b in zip(ref_codon, codon) if a != b)\n",
    "            if counter==1:\n",
    "                alt_codon = codon\n",
    "                break\n",
    "\n",
    "        base_pos = 3*aa_pos -2\n",
    "        for i,j in zip(ref_codon, alt_codon):\n",
    "            if i!=j:\n",
    "                ref_base = i\n",
    "                alt_base = j\n",
    "                break\n",
    "            base_pos+=1\n",
    "\n",
    "        assert reference_gene.nucleotide_sequence[reference_gene.nucleotide_number==base_pos][0] == ref_base\n",
    "\n",
    "        sample_gene.nucleotide_sequence[sample_gene.nucleotide_number==base_pos] = alt_base\n",
    "\n",
    "    #* RETURN (PRINT) EITHER MUTATIONS OR MUTATED ALLELE    \n",
    "    sample_gene._translate_sequence()\n",
    "    print(\"SAMPLE %i, LABEL %s, %i resistant mutations, %i susceptible mutations\" % (n_sample, label, number_resistant, number_susceptible))\n",
    "    if output == 'allele':\n",
    "        sample_amino_acid_sequence = ''.join(i for i in sample_gene.amino_acid_sequence)\n",
    "        print(sample_amino_acid_sequence)\n",
    "    elif output == 'mutations':\n",
    "        diff = reference_gene - sample_gene\n",
    "        for i in diff.mutations:\n",
    "            print(i)\n",
    "    else:\n",
    "        raise ValueError('output can only be one of allele or mutations!')\n",
    "    \n",
    "    # break\n"
   ]
  },
  {
   "cell_type": "code",
   "execution_count": 1,
   "metadata": {},
   "outputs": [],
   "source": [
    "from src.sbmlsim import sbmlsim\n",
    "\n",
    "gene = 'pncA'\n",
    "drug = 'PZA'\n",
    "catalogue_file = 'NC_000962.3_WHO-UCN-GTB-PCI-2021.7_v1.0_GARC1_RUS.csv'\n",
    "genbank_file = 'NC_000962.3.gbk'\n",
    "\n",
    "batch = sbmlsim.batch(gene, drug, catalogue_file, genbank_file)"
   ]
  },
  {
   "cell_type": "code",
   "execution_count": 2,
   "metadata": {},
   "outputs": [
    {
     "data": {
      "text/html": [
       "<div>\n",
       "<style scoped>\n",
       "    .dataframe tbody tr th:only-of-type {\n",
       "        vertical-align: middle;\n",
       "    }\n",
       "\n",
       "    .dataframe tbody tr th {\n",
       "        vertical-align: top;\n",
       "    }\n",
       "\n",
       "    .dataframe thead th {\n",
       "        text-align: right;\n",
       "    }\n",
       "</style>\n",
       "<table border=\"1\" class=\"dataframe\">\n",
       "  <thead>\n",
       "    <tr style=\"text-align: right;\">\n",
       "      <th></th>\n",
       "      <th>allele</th>\n",
       "      <th>label</th>\n",
       "      <th>num_res_mutations</th>\n",
       "      <th>res_mutations</th>\n",
       "      <th>num_sus_mutations</th>\n",
       "      <th>sus_mutations</th>\n",
       "    </tr>\n",
       "    <tr>\n",
       "      <th>sample</th>\n",
       "      <th></th>\n",
       "      <th></th>\n",
       "      <th></th>\n",
       "      <th></th>\n",
       "      <th></th>\n",
       "      <th></th>\n",
       "    </tr>\n",
       "  </thead>\n",
       "  <tbody>\n",
       "    <tr>\n",
       "      <th>0</th>\n",
       "      <td>MRALIIVDVQNDFCEGGSLAVTGGAALARAISDYLAEAADYHHVVA...</td>\n",
       "      <td>R</td>\n",
       "      <td>0</td>\n",
       "      <td>res list</td>\n",
       "      <td>2</td>\n",
       "      <td>sus list</td>\n",
       "    </tr>\n",
       "    <tr>\n",
       "      <th>1</th>\n",
       "      <td>MRALIIVDVQNDFCEGGSLAVTGGAALARAISDYLAEAADYHHVVA...</td>\n",
       "      <td>S</td>\n",
       "      <td>0</td>\n",
       "      <td>res list</td>\n",
       "      <td>0</td>\n",
       "      <td>sus list</td>\n",
       "    </tr>\n",
       "    <tr>\n",
       "      <th>2</th>\n",
       "      <td>MRALIIVDVQNDFCEGGSPAVTGGAALARAISDYLAEAADYHHVVA...</td>\n",
       "      <td>R</td>\n",
       "      <td>3</td>\n",
       "      <td>res list</td>\n",
       "      <td>1</td>\n",
       "      <td>sus list</td>\n",
       "    </tr>\n",
       "    <tr>\n",
       "      <th>3</th>\n",
       "      <td>MRALIIVDVQNDFCEGGSLAVTGGAALARAISDYLAEAADYHHVVA...</td>\n",
       "      <td>S</td>\n",
       "      <td>0</td>\n",
       "      <td>res list</td>\n",
       "      <td>0</td>\n",
       "      <td>sus list</td>\n",
       "    </tr>\n",
       "    <tr>\n",
       "      <th>4</th>\n",
       "      <td>MRALIIVDVQNDFCEGGSLAVTGGAALARAISDYLAEAADYHHVVA...</td>\n",
       "      <td>S</td>\n",
       "      <td>0</td>\n",
       "      <td>res list</td>\n",
       "      <td>0</td>\n",
       "      <td>sus list</td>\n",
       "    </tr>\n",
       "    <tr>\n",
       "      <th>5</th>\n",
       "      <td>MRALIIVDVQNDFCEGGSLAVTGGAALARAISDYLAEAADYHHVVA...</td>\n",
       "      <td>S</td>\n",
       "      <td>0</td>\n",
       "      <td>res list</td>\n",
       "      <td>0</td>\n",
       "      <td>sus list</td>\n",
       "    </tr>\n",
       "    <tr>\n",
       "      <th>6</th>\n",
       "      <td>MRALLIVDVQNDFCEGGSLAVTGGAALARAISDYLAEAADYHHVVA...</td>\n",
       "      <td>R</td>\n",
       "      <td>1</td>\n",
       "      <td>res list</td>\n",
       "      <td>3</td>\n",
       "      <td>sus list</td>\n",
       "    </tr>\n",
       "    <tr>\n",
       "      <th>7</th>\n",
       "      <td>MRALIIVDVQNDFCEGGSLAVTGGAALARAISDYLAEAADYHHVVA...</td>\n",
       "      <td>S</td>\n",
       "      <td>0</td>\n",
       "      <td>res list</td>\n",
       "      <td>1</td>\n",
       "      <td>sus list</td>\n",
       "    </tr>\n",
       "    <tr>\n",
       "      <th>8</th>\n",
       "      <td>MRALIIVDVQNDFCEGGSLAVTGGAALARAISDYLAEAADYHHVVA...</td>\n",
       "      <td>R</td>\n",
       "      <td>2</td>\n",
       "      <td>res list</td>\n",
       "      <td>0</td>\n",
       "      <td>sus list</td>\n",
       "    </tr>\n",
       "    <tr>\n",
       "      <th>9</th>\n",
       "      <td>MRALIIVVVQNDFCEGGSLAVTGGAALARAISDYLAEAADYHHVVA...</td>\n",
       "      <td>S</td>\n",
       "      <td>0</td>\n",
       "      <td>res list</td>\n",
       "      <td>1</td>\n",
       "      <td>sus list</td>\n",
       "    </tr>\n",
       "  </tbody>\n",
       "</table>\n",
       "</div>"
      ],
      "text/plain": [
       "                                                   allele label  \\\n",
       "sample                                                            \n",
       "0       MRALIIVDVQNDFCEGGSLAVTGGAALARAISDYLAEAADYHHVVA...     R   \n",
       "1       MRALIIVDVQNDFCEGGSLAVTGGAALARAISDYLAEAADYHHVVA...     S   \n",
       "2       MRALIIVDVQNDFCEGGSPAVTGGAALARAISDYLAEAADYHHVVA...     R   \n",
       "3       MRALIIVDVQNDFCEGGSLAVTGGAALARAISDYLAEAADYHHVVA...     S   \n",
       "4       MRALIIVDVQNDFCEGGSLAVTGGAALARAISDYLAEAADYHHVVA...     S   \n",
       "5       MRALIIVDVQNDFCEGGSLAVTGGAALARAISDYLAEAADYHHVVA...     S   \n",
       "6       MRALLIVDVQNDFCEGGSLAVTGGAALARAISDYLAEAADYHHVVA...     R   \n",
       "7       MRALIIVDVQNDFCEGGSLAVTGGAALARAISDYLAEAADYHHVVA...     S   \n",
       "8       MRALIIVDVQNDFCEGGSLAVTGGAALARAISDYLAEAADYHHVVA...     R   \n",
       "9       MRALIIVVVQNDFCEGGSLAVTGGAALARAISDYLAEAADYHHVVA...     S   \n",
       "\n",
       "        num_res_mutations res_mutations  num_sus_mutations sus_mutations  \n",
       "sample                                                                    \n",
       "0                       0      res list                  2      sus list  \n",
       "1                       0      res list                  0      sus list  \n",
       "2                       3      res list                  1      sus list  \n",
       "3                       0      res list                  0      sus list  \n",
       "4                       0      res list                  0      sus list  \n",
       "5                       0      res list                  0      sus list  \n",
       "6                       1      res list                  3      sus list  \n",
       "7                       0      res list                  1      sus list  \n",
       "8                       2      res list                  0      sus list  \n",
       "9                       0      res list                  1      sus list  "
      ]
     },
     "execution_count": 2,
     "metadata": {},
     "output_type": "execute_result"
    }
   ],
   "source": [
    "n_samples = 10\n",
    "n_res = 1\n",
    "n_sus=1\n",
    "proportion_resistant = 0.5\n",
    "\n",
    "batch.generate_batch(n_samples, proportion_resistant, n_res, n_sus)"
   ]
  },
  {
   "cell_type": "code",
   "execution_count": null,
   "metadata": {},
   "outputs": [],
   "source": [
    "# STOP codons in susceptible mutations ??"
   ]
  },
  {
   "cell_type": "code",
   "execution_count": null,
   "metadata": {},
   "outputs": [],
   "source": [
    "# sample | allele | label | num_res_mutations | res_mutations (list) | num_sus_mutations | sus_mutations (list)"
   ]
  },
  {
   "cell_type": "code",
   "execution_count": 51,
   "metadata": {},
   "outputs": [],
   "source": [
    "df = pd.DataFrame(columns=['sample', 'allele', 'label', 'num_res_mutations', 'res_mutations', 'num_sus_mutations', 'sus_mutations']).set_index('sample')"
   ]
  },
  {
   "cell_type": "code",
   "execution_count": 57,
   "metadata": {},
   "outputs": [],
   "source": [
    "df.loc[1] = ['MRALIIVDVQNAFCEGGSLAVTGGAALARAISDYLAEAADYHHVVATKDFHIDPGDHFSGTPDYSSSWPPHCVSGTPGADFHPSLDTSAIEAGFYKGAYTGAYSGFEGVDENGTPLLNWLRQRGVDEVDVVGIATDHCVRQTAEDAVRNGLATRVLVDLTAGVSADTTVAALEEMRTASVELVCSS', 'S', 0, [], 1, ['ATG']]"
   ]
  },
  {
   "cell_type": "code",
   "execution_count": 58,
   "metadata": {},
   "outputs": [
    {
     "data": {
      "text/html": [
       "<div>\n",
       "<style scoped>\n",
       "    .dataframe tbody tr th:only-of-type {\n",
       "        vertical-align: middle;\n",
       "    }\n",
       "\n",
       "    .dataframe tbody tr th {\n",
       "        vertical-align: top;\n",
       "    }\n",
       "\n",
       "    .dataframe thead th {\n",
       "        text-align: right;\n",
       "    }\n",
       "</style>\n",
       "<table border=\"1\" class=\"dataframe\">\n",
       "  <thead>\n",
       "    <tr style=\"text-align: right;\">\n",
       "      <th></th>\n",
       "      <th>allele</th>\n",
       "      <th>label</th>\n",
       "      <th>num_res_mutations</th>\n",
       "      <th>res_mutations</th>\n",
       "      <th>num_sus_mutations</th>\n",
       "      <th>sus_mutations</th>\n",
       "    </tr>\n",
       "    <tr>\n",
       "      <th>sample</th>\n",
       "      <th></th>\n",
       "      <th></th>\n",
       "      <th></th>\n",
       "      <th></th>\n",
       "      <th></th>\n",
       "      <th></th>\n",
       "    </tr>\n",
       "  </thead>\n",
       "  <tbody>\n",
       "    <tr>\n",
       "      <th>0</th>\n",
       "      <td>MRALIIVDVQNAFCEGGSLAVTGGAALARAISDYLAEAADYHHVVA...</td>\n",
       "      <td>S</td>\n",
       "      <td>0</td>\n",
       "      <td>[]</td>\n",
       "      <td>1</td>\n",
       "      <td>[ATG]</td>\n",
       "    </tr>\n",
       "    <tr>\n",
       "      <th>1</th>\n",
       "      <td>MRALIIVDVQNAFCEGGSLAVTGGAALARAISDYLAEAADYHHVVA...</td>\n",
       "      <td>S</td>\n",
       "      <td>0</td>\n",
       "      <td>[]</td>\n",
       "      <td>1</td>\n",
       "      <td>[ATG]</td>\n",
       "    </tr>\n",
       "  </tbody>\n",
       "</table>\n",
       "</div>"
      ],
      "text/plain": [
       "                                                   allele label  \\\n",
       "sample                                                            \n",
       "0       MRALIIVDVQNAFCEGGSLAVTGGAALARAISDYLAEAADYHHVVA...     S   \n",
       "1       MRALIIVDVQNAFCEGGSLAVTGGAALARAISDYLAEAADYHHVVA...     S   \n",
       "\n",
       "        num_res_mutations res_mutations  num_sus_mutations sus_mutations  \n",
       "sample                                                                    \n",
       "0                       0            []                  1         [ATG]  \n",
       "1                       0            []                  1         [ATG]  "
      ]
     },
     "execution_count": 58,
     "metadata": {},
     "output_type": "execute_result"
    }
   ],
   "source": [
    "df"
   ]
  },
  {
   "cell_type": "code",
   "execution_count": null,
   "metadata": {},
   "outputs": [],
   "source": []
  }
 ],
 "metadata": {
  "kernelspec": {
   "display_name": "Python 3",
   "language": "python",
   "name": "python3"
  },
  "language_info": {
   "codemirror_mode": {
    "name": "ipython",
    "version": 3
   },
   "file_extension": ".py",
   "mimetype": "text/x-python",
   "name": "python",
   "nbconvert_exporter": "python",
   "pygments_lexer": "ipython3",
   "version": "3.10.7"
  }
 },
 "nbformat": 4,
 "nbformat_minor": 2
}
