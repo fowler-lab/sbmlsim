{
 "cells": [
  {
   "cell_type": "code",
   "execution_count": 1,
   "metadata": {},
   "outputs": [
    {
     "ename": "SyntaxError",
     "evalue": "incomplete input (2547217384.py, line 5)",
     "output_type": "error",
     "traceback": [
      "\u001b[0;36m  Cell \u001b[0;32mIn[1], line 5\u001b[0;36m\u001b[0m\n\u001b[0;31m    # decide if resistant or not\u001b[0m\n\u001b[0m                                ^\u001b[0m\n\u001b[0;31mSyntaxError\u001b[0m\u001b[0;31m:\u001b[0m incomplete input\n"
     ]
    }
   ],
   "source": [
    "# read in the parameters / files / setup\n",
    "\n",
    "reference_gene = reference.build_gene(options.gene_name)\n",
    "\n",
    "for sample in range(n_samples):\n",
    "\n",
    "    sample_gene = copy.deepcopy(reference_gene)\n",
    "\n",
    "    # decide if resistant or not\n",
    "    if rand < 0.5:\n",
    "\n",
    "        # pick from resistant distribution\n",
    "        n_res_muts = sample_resistant_distribution(n_resistant, variation)\n",
    "\n",
    "        for res in n_res_muts:\n",
    "\n",
    "            # pick a resistant mutation and check we haven't already got it\n",
    "\n",
    "            sample_gene.nucleotide_sequence[sample_gene.nucleotide_number==base_number] = chosen_base\n",
    "    \n",
    "    for sus in n_sus_muts:\n",
    "\n",
    "        # pick a susceptible mutation (without replacement) and apply it\n",
    "\n",
    "        sample_gene.nucleotide_sequence[sample_gene.nucleotide_number==base_number] = chosen_base\n",
    "\n",
    "    # add the allele to the list for output\n",
    "    allele = ''.join(i for i in pnca_reference.amino_acid_sequence)"
   ]
  },
  {
   "cell_type": "code",
   "execution_count": null,
   "metadata": {},
   "outputs": [],
   "source": []
  }
 ],
 "metadata": {
  "kernelspec": {
   "display_name": "Python 3",
   "language": "python",
   "name": "python3"
  },
  "language_info": {
   "codemirror_mode": {
    "name": "ipython",
    "version": 3
   },
   "file_extension": ".py",
   "mimetype": "text/x-python",
   "name": "python",
   "nbconvert_exporter": "python",
   "pygments_lexer": "ipython3",
   "version": "3.11.4"
  }
 },
 "nbformat": 4,
 "nbformat_minor": 2
}
