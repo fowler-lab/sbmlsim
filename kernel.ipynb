{
 "cells": [
  {
   "cell_type": "code",
   "execution_count": 17,
   "metadata": {},
   "outputs": [],
   "source": [
    "import gumpy, numpy, copy"
   ]
  },
  {
   "cell_type": "code",
   "execution_count": 16,
   "metadata": {},
   "outputs": [
    {
     "data": {
      "text/plain": [
       "'1.25.2'"
      ]
     },
     "execution_count": 16,
     "metadata": {},
     "output_type": "execute_result"
    }
   ],
   "source": [
    "numpy.__version__"
   ]
  },
  {
   "cell_type": "code",
   "execution_count": 4,
   "metadata": {},
   "outputs": [],
   "source": [
    "reference = gumpy.Genome('NC_000962.3.gbk')"
   ]
  },
  {
   "cell_type": "code",
   "execution_count": 5,
   "metadata": {},
   "outputs": [],
   "source": [
    "pnca_reference = reference.build_gene('pncA')"
   ]
  },
  {
   "cell_type": "markdown",
   "metadata": {},
   "source": [
    "`__repr__`  is overloaded so you can do this"
   ]
  },
  {
   "cell_type": "code",
   "execution_count": 6,
   "metadata": {},
   "outputs": [
    {
     "data": {
      "text/plain": [
       "pncA gene\n",
       "601 nucleotides, codes for protein\n",
       "['g' 'c' 'a' ... 'c' 'g' 't']\n",
       "[-40 -39 -38 ...  -3  -2  -1]\n",
       "['M' 'R' 'A' ... 'S' 'S' '!']\n",
       "[  1   2   3 ... 185 186 187]"
      ]
     },
     "execution_count": 6,
     "metadata": {},
     "output_type": "execute_result"
    }
   ],
   "source": [
    "pnca_reference"
   ]
  },
  {
   "cell_type": "markdown",
   "metadata": {},
   "source": [
    "This is natively exposed as a `numpy` array"
   ]
  },
  {
   "cell_type": "code",
   "execution_count": 7,
   "metadata": {},
   "outputs": [
    {
     "data": {
      "text/plain": [
       "array(['M', 'R', 'A', 'L', 'I', 'I', 'V', 'D', 'V', 'Q', 'N', 'D', 'F',\n",
       "       'C', 'E', 'G', 'G', 'S', 'L', 'A', 'V', 'T', 'G', 'G', 'A', 'A',\n",
       "       'L', 'A', 'R', 'A', 'I', 'S', 'D', 'Y', 'L', 'A', 'E', 'A', 'A',\n",
       "       'D', 'Y', 'H', 'H', 'V', 'V', 'A', 'T', 'K', 'D', 'F', 'H', 'I',\n",
       "       'D', 'P', 'G', 'D', 'H', 'F', 'S', 'G', 'T', 'P', 'D', 'Y', 'S',\n",
       "       'S', 'S', 'W', 'P', 'P', 'H', 'C', 'V', 'S', 'G', 'T', 'P', 'G',\n",
       "       'A', 'D', 'F', 'H', 'P', 'S', 'L', 'D', 'T', 'S', 'A', 'I', 'E',\n",
       "       'A', 'V', 'F', 'Y', 'K', 'G', 'A', 'Y', 'T', 'G', 'A', 'Y', 'S',\n",
       "       'G', 'F', 'E', 'G', 'V', 'D', 'E', 'N', 'G', 'T', 'P', 'L', 'L',\n",
       "       'N', 'W', 'L', 'R', 'Q', 'R', 'G', 'V', 'D', 'E', 'V', 'D', 'V',\n",
       "       'V', 'G', 'I', 'A', 'T', 'D', 'H', 'C', 'V', 'R', 'Q', 'T', 'A',\n",
       "       'E', 'D', 'A', 'V', 'R', 'N', 'G', 'L', 'A', 'T', 'R', 'V', 'L',\n",
       "       'V', 'D', 'L', 'T', 'A', 'G', 'V', 'S', 'A', 'D', 'T', 'T', 'V',\n",
       "       'A', 'A', 'L', 'E', 'E', 'M', 'R', 'T', 'A', 'S', 'V', 'E', 'L',\n",
       "       'V', 'C', 'S', 'S', '!'], dtype='<U1')"
      ]
     },
     "execution_count": 7,
     "metadata": {},
     "output_type": "execute_result"
    }
   ],
   "source": [
    "pnca_reference.amino_acid_sequence"
   ]
  },
  {
   "cell_type": "markdown",
   "metadata": {},
   "source": [
    "Or we can make a simple string"
   ]
  },
  {
   "cell_type": "code",
   "execution_count": 23,
   "metadata": {},
   "outputs": [
    {
     "data": {
      "text/plain": [
       "'MRALIIVDVQNDFCEGGSLAVTGGAALARAISDYLAEAADYHHVVATKDFHIDPGDHFSGTPDYSSSWPPHCVSGTPGADFHPSLDTSAIEAVFYKGAYTGAYSGFEGVDENGTPLLNWLRQRGVDEVDVVGIATDHCVRQTAEDAVRNGLATRVLVDLTAGVSADTTVAALEEMRTASVELVCSS!'"
      ]
     },
     "execution_count": 23,
     "metadata": {},
     "output_type": "execute_result"
    }
   ],
   "source": [
    "''.join(i for i in pnca_reference.amino_acid_sequence)\n"
   ]
  },
  {
   "cell_type": "markdown",
   "metadata": {},
   "source": [
    "Because the gene has associated with it a promoter region, we have to remove that to get at the nucleotide sequence of the CDS"
   ]
  },
  {
   "cell_type": "code",
   "execution_count": 24,
   "metadata": {},
   "outputs": [
    {
     "name": "stdout",
     "output_type": "stream",
     "text": [
      "atgcgggcgttgatcatcgtcgacgtgcagaacgacttctgcgagggtggctcgctggcggtaaccggtggcgccgcgctggcccgcgccatcagcgactacctggccgaagcggcggactaccatcacgtcgtggcaaccaaggacttccacatcgacccgggtgaccacttctccggcacaccggactattcctcgtcgtggccaccgcattgcgtcagcggtactcccggcgcggacttccatcccagtctggacacgtcggcaatcgaggcggtgttctacaagggtgcctacaccggagcgtacagcggcttcgaaggagtcgacgagaacggcacgccactgctgaattggctgcggcaacgcggcgtcgatgaggtcgatgtggtcggtattgccaccgatcattgtgtgcgccagacggccgaggacgcggtacgcaatggcttggccaccagggtgctggtggacctgacagcgggtgtgtcggccgataccaccgtcgccgcgctggaggagatgcgcaccgccagcgtcgagttggtttgcagctcctga\n"
     ]
    }
   ],
   "source": [
    "pnca_sequence = ''.join(i for i in pnca_reference.nucleotide_sequence[pnca_reference.nucleotide_number>0])\n",
    "print(pnca_sequence)"
   ]
  },
  {
   "cell_type": "markdown",
   "metadata": {},
   "source": [
    "If we want to work out all 1SNP possible mutations we need to know the codon table"
   ]
  },
  {
   "cell_type": "code",
   "execution_count": 18,
   "metadata": {},
   "outputs": [],
   "source": [
    "aminoacids = 'FFLLSSSSYY!!CC!WLLLLPPPPHHQQRRRRIIIMTTTTNNKKSSRRVVVVAAAADDEEGGGG'\n",
    "bases = ['t', 'c', 'a', 'g']\n",
    "all_codons = numpy.array([a+b+c for a in bases for b in bases for c in bases])\n",
    "codon_to_amino_acid = dict(zip(all_codons, aminoacids))"
   ]
  },
  {
   "cell_type": "markdown",
   "metadata": {},
   "source": [
    "Note that the below won't allow a stop codon (here `!`) to be introduced"
   ]
  },
  {
   "cell_type": "code",
   "execution_count": 27,
   "metadata": {},
   "outputs": [],
   "source": [
    "index = 1\n",
    "\n",
    "maximum_amino_acids = []\n",
    "amino_acid_position = []\n",
    "possible_mutations = {}\n",
    "\n",
    "for codon in [pnca_sequence[i:i+3] for i in range(0,len(pnca_sequence),3)]:\n",
    "    \n",
    "    aminoacid = codon_to_amino_acid[codon]\n",
    "    mutations = []\n",
    "\n",
    "    for pos in [0, 1, 2]:\n",
    "        for i in bases:\n",
    "            if codon[pos] != i:\n",
    "                new_codon = codon[:pos] + i + codon[pos+1:]\n",
    "                new_aminoacid = codon_to_amino_acid[new_codon]\n",
    "\n",
    "                if new_aminoacid != aminoacid and new_aminoacid not in mutations and new_aminoacid!=\"!\":\n",
    "                    mutations.append(new_aminoacid)\n",
    "\n",
    "    possible_mutations[index] = mutations\n",
    "    maximum_amino_acids.append(len(mutations))\n",
    "    amino_acid_position.append(index)\n",
    "    \n",
    "    index+=1"
   ]
  },
  {
   "cell_type": "code",
   "execution_count": 28,
   "metadata": {},
   "outputs": [
    {
     "data": {
      "text/plain": [
       "{1: ['L', 'V', 'T', 'K', 'R', 'I'],\n",
       " 2: ['W', 'G', 'L', 'P', 'Q'],\n",
       " 3: ['S', 'P', 'T', 'V', 'E', 'G'],\n",
       " 4: ['M', 'V', 'S', 'W', 'F'],\n",
       " 5: ['F', 'L', 'V', 'T', 'N', 'S', 'M'],\n",
       " 6: ['F', 'L', 'V', 'T', 'N', 'S', 'M'],\n",
       " 7: ['F', 'L', 'I', 'A', 'D', 'G'],\n",
       " 8: ['Y', 'H', 'N', 'V', 'A', 'G', 'E'],\n",
       " 9: ['L', 'M', 'A', 'E', 'G'],\n",
       " 10: ['K', 'E', 'L', 'P', 'R', 'H'],\n",
       " 11: ['Y', 'H', 'D', 'I', 'T', 'S', 'K'],\n",
       " 12: ['Y', 'H', 'N', 'V', 'A', 'G', 'E'],\n",
       " 13: ['L', 'I', 'V', 'S', 'Y', 'C'],\n",
       " 14: ['R', 'S', 'G', 'F', 'Y', 'W'],\n",
       " 15: ['Q', 'K', 'V', 'A', 'G', 'D'],\n",
       " 16: ['C', 'R', 'S', 'V', 'A', 'D'],\n",
       " 17: ['C', 'R', 'S', 'V', 'A', 'D'],\n",
       " 18: ['P', 'T', 'A', 'L', 'W'],\n",
       " 19: ['M', 'V', 'P', 'Q', 'R'],\n",
       " 20: ['S', 'P', 'T', 'V', 'E', 'G'],\n",
       " 21: ['L', 'I', 'A', 'E', 'G'],\n",
       " 22: ['S', 'P', 'A', 'I', 'N'],\n",
       " 23: ['C', 'R', 'S', 'V', 'A', 'D'],\n",
       " 24: ['C', 'R', 'S', 'V', 'A', 'D'],\n",
       " 25: ['S', 'P', 'T', 'V', 'D', 'G'],\n",
       " 26: ['S', 'P', 'T', 'V', 'E', 'G'],\n",
       " 27: ['M', 'V', 'P', 'Q', 'R'],\n",
       " 28: ['S', 'P', 'T', 'V', 'D', 'G'],\n",
       " 29: ['C', 'S', 'G', 'L', 'P', 'H'],\n",
       " 30: ['S', 'P', 'T', 'V', 'D', 'G'],\n",
       " 31: ['F', 'L', 'V', 'T', 'N', 'S', 'M'],\n",
       " 32: ['C', 'R', 'G', 'I', 'T', 'N'],\n",
       " 33: ['Y', 'H', 'N', 'V', 'A', 'G', 'E'],\n",
       " 34: ['H', 'N', 'D', 'F', 'S', 'C'],\n",
       " 35: ['M', 'V', 'P', 'Q', 'R'],\n",
       " 36: ['S', 'P', 'T', 'V', 'D', 'G'],\n",
       " 37: ['Q', 'K', 'V', 'A', 'G', 'D'],\n",
       " 38: ['S', 'P', 'T', 'V', 'E', 'G'],\n",
       " 39: ['S', 'P', 'T', 'V', 'E', 'G'],\n",
       " 40: ['Y', 'H', 'N', 'V', 'A', 'G', 'E'],\n",
       " 41: ['H', 'N', 'D', 'F', 'S', 'C'],\n",
       " 42: ['Y', 'N', 'D', 'L', 'P', 'R', 'Q'],\n",
       " 43: ['Y', 'N', 'D', 'L', 'P', 'R', 'Q'],\n",
       " 44: ['F', 'L', 'I', 'A', 'D', 'G'],\n",
       " 45: ['L', 'M', 'A', 'E', 'G'],\n",
       " 46: ['S', 'P', 'T', 'V', 'E', 'G'],\n",
       " 47: ['S', 'P', 'A', 'I', 'N'],\n",
       " 48: ['Q', 'E', 'M', 'T', 'R', 'N'],\n",
       " 49: ['Y', 'H', 'N', 'V', 'A', 'G', 'E'],\n",
       " 50: ['L', 'I', 'V', 'S', 'Y', 'C'],\n",
       " 51: ['Y', 'N', 'D', 'L', 'P', 'R', 'Q'],\n",
       " 52: ['F', 'L', 'V', 'T', 'N', 'S', 'M'],\n",
       " 53: ['Y', 'H', 'N', 'V', 'A', 'G', 'E'],\n",
       " 54: ['S', 'T', 'A', 'L', 'Q', 'R'],\n",
       " 55: ['C', 'R', 'S', 'V', 'A', 'D'],\n",
       " 56: ['Y', 'H', 'N', 'V', 'A', 'G', 'E'],\n",
       " 57: ['Y', 'N', 'D', 'L', 'P', 'R', 'Q'],\n",
       " 58: ['L', 'I', 'V', 'S', 'Y', 'C'],\n",
       " 59: ['P', 'T', 'A', 'F', 'Y', 'C'],\n",
       " 60: ['C', 'R', 'S', 'V', 'A', 'D'],\n",
       " 61: ['S', 'P', 'A', 'I', 'K', 'R'],\n",
       " 62: ['S', 'T', 'A', 'L', 'Q', 'R'],\n",
       " 63: ['Y', 'H', 'N', 'V', 'A', 'G', 'E'],\n",
       " 64: ['H', 'N', 'D', 'F', 'S', 'C'],\n",
       " 65: ['P', 'T', 'A', 'F', 'Y', 'C'],\n",
       " 66: ['P', 'T', 'A', 'L', 'W'],\n",
       " 67: ['P', 'T', 'A', 'L', 'W'],\n",
       " 68: ['R', 'G', 'L', 'S', 'C'],\n",
       " 69: ['S', 'T', 'A', 'L', 'Q', 'R'],\n",
       " 70: ['S', 'T', 'A', 'L', 'Q', 'R'],\n",
       " 71: ['Y', 'N', 'D', 'L', 'P', 'R', 'Q'],\n",
       " 72: ['R', 'S', 'G', 'F', 'Y', 'W'],\n",
       " 73: ['F', 'L', 'I', 'A', 'D', 'G'],\n",
       " 74: ['C', 'R', 'G', 'I', 'T', 'N'],\n",
       " 75: ['C', 'R', 'S', 'V', 'A', 'D'],\n",
       " 76: ['S', 'P', 'A', 'I', 'N'],\n",
       " 77: ['S', 'T', 'A', 'L', 'H', 'R'],\n",
       " 78: ['C', 'R', 'S', 'V', 'A', 'D'],\n",
       " 79: ['S', 'P', 'T', 'V', 'E', 'G'],\n",
       " 80: ['Y', 'H', 'N', 'V', 'A', 'G', 'E'],\n",
       " 81: ['L', 'I', 'V', 'S', 'Y', 'C'],\n",
       " 82: ['Y', 'N', 'D', 'L', 'P', 'R', 'Q'],\n",
       " 83: ['S', 'T', 'A', 'L', 'H', 'R'],\n",
       " 84: ['C', 'R', 'G', 'I', 'T', 'N'],\n",
       " 85: ['M', 'V', 'P', 'Q', 'R'],\n",
       " 86: ['Y', 'H', 'N', 'V', 'A', 'G', 'E'],\n",
       " 87: ['S', 'P', 'A', 'M', 'K', 'R'],\n",
       " 88: ['P', 'T', 'A', 'L', 'W'],\n",
       " 89: ['S', 'P', 'T', 'V', 'E', 'G'],\n",
       " 90: ['F', 'L', 'V', 'T', 'N', 'S', 'M'],\n",
       " 91: ['Q', 'K', 'V', 'A', 'G', 'D'],\n",
       " 92: ['S', 'P', 'T', 'V', 'E', 'G'],\n",
       " 93: ['L', 'M', 'A', 'E', 'G'],\n",
       " 94: ['L', 'I', 'V', 'S', 'Y', 'C'],\n",
       " 95: ['H', 'N', 'D', 'F', 'S', 'C'],\n",
       " 96: ['Q', 'E', 'M', 'T', 'R', 'N'],\n",
       " 97: ['C', 'R', 'S', 'V', 'A', 'D'],\n",
       " 98: ['S', 'P', 'T', 'V', 'D', 'G'],\n",
       " 99: ['H', 'N', 'D', 'F', 'S', 'C'],\n",
       " 100: ['S', 'P', 'A', 'I', 'N'],\n",
       " 101: ['R', 'V', 'A', 'E'],\n",
       " 102: ['S', 'P', 'T', 'V', 'E', 'G'],\n",
       " 103: ['H', 'N', 'D', 'F', 'S', 'C'],\n",
       " 104: ['C', 'R', 'G', 'I', 'T', 'N'],\n",
       " 105: ['C', 'R', 'S', 'V', 'A', 'D'],\n",
       " 106: ['L', 'I', 'V', 'S', 'Y', 'C'],\n",
       " 107: ['Q', 'K', 'V', 'A', 'G', 'D'],\n",
       " 108: ['R', 'V', 'A', 'E'],\n",
       " 109: ['F', 'L', 'I', 'A', 'D', 'G'],\n",
       " 110: ['Y', 'H', 'N', 'V', 'A', 'G', 'E'],\n",
       " 111: ['Q', 'K', 'V', 'A', 'G', 'D'],\n",
       " 112: ['Y', 'H', 'D', 'I', 'T', 'S', 'K'],\n",
       " 113: ['C', 'R', 'S', 'V', 'A', 'D'],\n",
       " 114: ['S', 'P', 'A', 'M', 'K', 'R'],\n",
       " 115: ['S', 'T', 'A', 'L', 'Q', 'R'],\n",
       " 116: ['M', 'V', 'P', 'Q', 'R'],\n",
       " 117: ['M', 'V', 'P', 'Q', 'R'],\n",
       " 118: ['Y', 'H', 'D', 'I', 'T', 'S', 'K'],\n",
       " 119: ['R', 'G', 'L', 'S', 'C'],\n",
       " 120: ['M', 'V', 'P', 'Q', 'R'],\n",
       " 121: ['W', 'G', 'L', 'P', 'Q'],\n",
       " 122: ['K', 'E', 'L', 'P', 'R', 'H'],\n",
       " 123: ['C', 'S', 'G', 'L', 'P', 'H'],\n",
       " 124: ['C', 'R', 'S', 'V', 'A', 'D'],\n",
       " 125: ['F', 'L', 'I', 'A', 'D', 'G'],\n",
       " 126: ['Y', 'H', 'N', 'V', 'A', 'G', 'E'],\n",
       " 127: ['Q', 'K', 'V', 'A', 'G', 'D'],\n",
       " 128: ['F', 'L', 'I', 'A', 'D', 'G'],\n",
       " 129: ['Y', 'H', 'N', 'V', 'A', 'G', 'E'],\n",
       " 130: ['L', 'M', 'A', 'E', 'G'],\n",
       " 131: ['F', 'L', 'I', 'A', 'D', 'G'],\n",
       " 132: ['C', 'R', 'S', 'V', 'A', 'D'],\n",
       " 133: ['F', 'L', 'V', 'T', 'N', 'S', 'M'],\n",
       " 134: ['S', 'P', 'T', 'V', 'D', 'G'],\n",
       " 135: ['S', 'P', 'A', 'I', 'N'],\n",
       " 136: ['Y', 'H', 'N', 'V', 'A', 'G', 'E'],\n",
       " 137: ['Y', 'N', 'D', 'L', 'P', 'R', 'Q'],\n",
       " 138: ['R', 'S', 'G', 'F', 'Y', 'W'],\n",
       " 139: ['L', 'M', 'A', 'E', 'G'],\n",
       " 140: ['C', 'S', 'G', 'L', 'P', 'H'],\n",
       " 141: ['K', 'E', 'L', 'P', 'R', 'H'],\n",
       " 142: ['S', 'P', 'A', 'M', 'K', 'R'],\n",
       " 143: ['S', 'P', 'T', 'V', 'D', 'G'],\n",
       " 144: ['Q', 'K', 'V', 'A', 'G', 'D'],\n",
       " 145: ['Y', 'H', 'N', 'V', 'A', 'G', 'E'],\n",
       " 146: ['S', 'P', 'T', 'V', 'E', 'G'],\n",
       " 147: ['L', 'I', 'A', 'E', 'G'],\n",
       " 148: ['C', 'S', 'G', 'L', 'P', 'H'],\n",
       " 149: ['Y', 'H', 'D', 'I', 'T', 'S', 'K'],\n",
       " 150: ['C', 'R', 'S', 'V', 'A', 'D'],\n",
       " 151: ['M', 'V', 'S', 'W', 'F'],\n",
       " 152: ['S', 'P', 'T', 'V', 'D', 'G'],\n",
       " 153: ['S', 'P', 'A', 'I', 'N'],\n",
       " 154: ['W', 'G', 'M', 'T', 'K', 'S'],\n",
       " 155: ['L', 'M', 'A', 'E', 'G'],\n",
       " 156: ['M', 'V', 'P', 'Q', 'R'],\n",
       " 157: ['L', 'M', 'A', 'E', 'G'],\n",
       " 158: ['Y', 'H', 'N', 'V', 'A', 'G', 'E'],\n",
       " 159: ['M', 'V', 'P', 'Q', 'R'],\n",
       " 160: ['S', 'P', 'A', 'I', 'K', 'R'],\n",
       " 161: ['S', 'P', 'T', 'V', 'E', 'G'],\n",
       " 162: ['C', 'R', 'S', 'V', 'A', 'D'],\n",
       " 163: ['L', 'M', 'A', 'E', 'G'],\n",
       " 164: ['P', 'T', 'A', 'L', 'W'],\n",
       " 165: ['S', 'P', 'T', 'V', 'D', 'G'],\n",
       " 166: ['Y', 'H', 'N', 'V', 'A', 'G', 'E'],\n",
       " 167: ['S', 'P', 'A', 'I', 'N'],\n",
       " 168: ['S', 'P', 'A', 'I', 'N'],\n",
       " 169: ['F', 'L', 'I', 'A', 'D', 'G'],\n",
       " 170: ['S', 'P', 'T', 'V', 'D', 'G'],\n",
       " 171: ['S', 'P', 'T', 'V', 'E', 'G'],\n",
       " 172: ['M', 'V', 'P', 'Q', 'R'],\n",
       " 173: ['Q', 'K', 'V', 'A', 'G', 'D'],\n",
       " 174: ['Q', 'K', 'V', 'A', 'G', 'D'],\n",
       " 175: ['L', 'V', 'T', 'K', 'R', 'I'],\n",
       " 176: ['C', 'S', 'G', 'L', 'P', 'H'],\n",
       " 177: ['S', 'P', 'A', 'I', 'N'],\n",
       " 178: ['S', 'P', 'T', 'V', 'D', 'G'],\n",
       " 179: ['C', 'R', 'G', 'I', 'T', 'N'],\n",
       " 180: ['F', 'L', 'I', 'A', 'D', 'G'],\n",
       " 181: ['Q', 'K', 'V', 'A', 'G', 'D'],\n",
       " 182: ['M', 'V', 'S', 'W', 'F'],\n",
       " 183: ['F', 'L', 'I', 'A', 'D', 'G'],\n",
       " 184: ['R', 'S', 'G', 'F', 'Y', 'W'],\n",
       " 185: ['C', 'R', 'G', 'I', 'T', 'N'],\n",
       " 186: ['P', 'T', 'A', 'F', 'Y', 'C'],\n",
       " 187: ['R', 'G', 'L', 'S', 'C', 'W']}"
      ]
     },
     "execution_count": 28,
     "metadata": {},
     "output_type": "execute_result"
    }
   ],
   "source": [
    "possible_mutations"
   ]
  },
  {
   "cell_type": "code",
   "execution_count": null,
   "metadata": {},
   "outputs": [],
   "source": []
  }
 ],
 "metadata": {
  "kernelspec": {
   "display_name": "Python 3",
   "language": "python",
   "name": "python3"
  },
  "language_info": {
   "codemirror_mode": {
    "name": "ipython",
    "version": 3
   },
   "file_extension": ".py",
   "mimetype": "text/x-python",
   "name": "python",
   "nbconvert_exporter": "python",
   "pygments_lexer": "ipython3",
   "version": "3.11.4"
  },
  "orig_nbformat": 4
 },
 "nbformat": 4,
 "nbformat_minor": 2
}
