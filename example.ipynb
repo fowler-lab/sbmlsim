{
 "cells": [
  {
   "cell_type": "code",
   "execution_count": 1,
   "metadata": {},
   "outputs": [],
   "source": [
    "%load_ext autoreload\n",
    "%autoreload 2\n",
    "\n",
    "import src.sbmlsim as sbmlsim"
   ]
  },
  {
   "cell_type": "code",
   "execution_count": 62,
   "metadata": {},
   "outputs": [
    {
     "data": {
      "text/plain": [
       "Gene: pncA\n",
       "Drug: PZA\n",
       "GenBank file: src/sbmlsim/data/NC_000962.3.gbk.gz\n",
       "Catalogue: NC_000962.3_WHO-UCN-GTB-PCI-2021.7_v1.0_GARC1_RUS.csv\n",
       "Number of resistant mutations: 154\n",
       "Number of susceptible mutations: 12"
      ]
     },
     "execution_count": 62,
     "metadata": {},
     "output_type": "execute_result"
    }
   ],
   "source": [
    "batch = sbmlsim.Batch(gene=\"pncA\", \n",
    "              drug=\"PZA\", \n",
    "              catalogue_file='NC_000962.3_WHO-UCN-GTB-PCI-2021.7_v1.0_GARC1_RUS.csv',\n",
    "              # resistant_mutations= ['pncA@A1V'],\n",
    "              # susceptible_mutations= ['pncA@G1A'],\n",
    "              genbank_file=\"src/sbmlsim/data/NC_000962.3.gbk.gz\",\n",
    "              ignore_catalogue_susceptibles=False\n",
    "              )\n",
    "\n",
    "batch"
   ]
  },
  {
   "cell_type": "code",
   "execution_count": 76,
   "metadata": {},
   "outputs": [],
   "source": [
    "samples, mutations = batch.generate(\n",
    "                        n_samples= 200,\n",
    "                        proportion_resistant=0.5,\n",
    "                        n_res=2,\n",
    "                        n_sus=2,\n",
    "                        )"
   ]
  },
  {
   "cell_type": "code",
   "execution_count": 79,
   "metadata": {},
   "outputs": [],
   "source": [
    "sus_muts = mutations[mutations['mutation_label'] == 'S'].index.get_level_values(1).drop_duplicates()"
   ]
  },
  {
   "cell_type": "code",
   "execution_count": 80,
   "metadata": {},
   "outputs": [
    {
     "name": "stdout",
     "output_type": "stream",
     "text": [
      "Index(['E15G', 'V21A', 'T87M', 'T114M', 'A171V', 'A79V', 'D136N', 'L35R',\n",
      "       'T168I', 'S66L', 'A79T', 'I6L'],\n",
      "      dtype='object', name='mutation')\n",
      "12\n"
     ]
    }
   ],
   "source": [
    "print(sus_muts)\n",
    "print(len(sus_muts))"
   ]
  },
  {
   "cell_type": "code",
   "execution_count": 77,
   "metadata": {},
   "outputs": [
    {
     "data": {
      "text/plain": [
       "Index(['G16V', 'V131F', 'F13Y', 'A146E', 'G24V', 'G105V', 'A161G', 'N112T',\n",
       "       'R123C', 'N112H',\n",
       "       ...\n",
       "       'H71D', 'T135I', 'A26P', 'V44L', 'D63H', 'E174D', 'D129V', 'T160K',\n",
       "       'H42N', 'V157G'],\n",
       "      dtype='object', name='mutation', length=326)"
      ]
     },
     "execution_count": 77,
     "metadata": {},
     "output_type": "execute_result"
    }
   ],
   "source": [
    "batch2 = sbmlsim.Batch(gene=\"pncA\", \n",
    "              drug=\"PZA\", \n",
    "              catalogue_file='NC_000962.3_WHO-UCN-GTB-PCI-2021.7_v1.0_GARC1_RUS.csv',\n",
    "              # resistant_mutations= ['pncA@A1V'],\n",
    "              # susceptible_mutations= ['pncA@G1A'],\n",
    "              genbank_file=\"src/sbmlsim/data/NC_000962.3.gbk.gz\",\n",
    "              ignore_catalogue_susceptibles=True\n",
    "              )\n",
    "\n",
    "samples2, mutations2 = batch2.generate(\n",
    "                        n_samples= 200,\n",
    "                        proportion_resistant=0.5,\n",
    "                        n_res=2,\n",
    "                        n_sus=2,\n",
    "                        )\n",
    "\n",
    "mutations2[mutations2['mutation_label'] == 'S'].index.get_level_values(1).drop_duplicates()"
   ]
  },
  {
   "cell_type": "code",
   "execution_count": null,
   "metadata": {},
   "outputs": [],
   "source": []
  }
 ],
 "metadata": {
  "kernelspec": {
   "display_name": "Python 3",
   "language": "python",
   "name": "python3"
  },
  "language_info": {
   "codemirror_mode": {
    "name": "ipython",
    "version": 3
   },
   "file_extension": ".py",
   "mimetype": "text/x-python",
   "name": "python",
   "nbconvert_exporter": "python",
   "pygments_lexer": "ipython3",
   "version": "3.12.0"
  }
 },
 "nbformat": 4,
 "nbformat_minor": 2
}
