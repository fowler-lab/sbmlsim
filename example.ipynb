{
 "cells": [
  {
   "cell_type": "code",
   "execution_count": 22,
   "metadata": {},
   "outputs": [
    {
     "name": "stdout",
     "output_type": "stream",
     "text": [
      "The autoreload extension is already loaded. To reload it, use:\n",
      "  %reload_ext autoreload\n"
     ]
    }
   ],
   "source": [
    "%load_ext autoreload\n",
    "%autoreload 2\n",
    "\n",
    "import src.sbmlsim as sbmlsim"
   ]
  },
  {
   "cell_type": "code",
   "execution_count": 41,
   "metadata": {},
   "outputs": [
    {
     "ename": "AssertionError",
     "evalue": "susceptible_mutations will not be used if a catalogue file is provided",
     "output_type": "error",
     "traceback": [
      "\u001b[0;31m---------------------------------------------------------------------------\u001b[0m",
      "\u001b[0;31mAssertionError\u001b[0m                            Traceback (most recent call last)",
      "Cell \u001b[0;32mIn[41], line 1\u001b[0m\n\u001b[0;32m----> 1\u001b[0m \u001b[43msbmlsim\u001b[49m\u001b[38;5;241;43m.\u001b[39;49m\u001b[43mBatch\u001b[49m\u001b[43m(\u001b[49m\u001b[43mgene\u001b[49m\u001b[38;5;241;43m=\u001b[39;49m\u001b[38;5;124;43m\"\u001b[39;49m\u001b[38;5;124;43mpncA\u001b[39;49m\u001b[38;5;124;43m\"\u001b[39;49m\u001b[43m,\u001b[49m\u001b[43m \u001b[49m\n\u001b[1;32m      2\u001b[0m \u001b[43m              \u001b[49m\u001b[43mdrug\u001b[49m\u001b[38;5;241;43m=\u001b[39;49m\u001b[38;5;124;43m\"\u001b[39;49m\u001b[38;5;124;43mPZA\u001b[39;49m\u001b[38;5;124;43m\"\u001b[39;49m\u001b[43m,\u001b[49m\u001b[43m \u001b[49m\n\u001b[1;32m      3\u001b[0m \u001b[43m              \u001b[49m\u001b[43mcatalogue_file\u001b[49m\u001b[38;5;241;43m=\u001b[39;49m\u001b[38;5;124;43m'\u001b[39;49m\u001b[38;5;124;43mNC_000962.3_WHO-UCN-GTB-PCI-2021.7_v1.0_GARC1_RUS.csv\u001b[39;49m\u001b[38;5;124;43m'\u001b[39;49m\u001b[43m,\u001b[49m\n\u001b[1;32m      4\u001b[0m \u001b[43m            \u001b[49m\u001b[38;5;66;43;03m#   resistant_mutations= ['pncA@A1V'],\u001b[39;49;00m\n\u001b[1;32m      5\u001b[0m \u001b[43m              \u001b[49m\u001b[43msusceptible_mutations\u001b[49m\u001b[38;5;241;43m=\u001b[39;49m\u001b[43m \u001b[49m\u001b[43m[\u001b[49m\u001b[38;5;124;43m'\u001b[39;49m\u001b[38;5;124;43mpncA@G1A\u001b[39;49m\u001b[38;5;124;43m'\u001b[39;49m\u001b[43m]\u001b[49m\u001b[43m,\u001b[49m\n\u001b[1;32m      6\u001b[0m \u001b[43m              \u001b[49m\u001b[43mgenbank_file\u001b[49m\u001b[38;5;241;43m=\u001b[39;49m\u001b[38;5;124;43m\"\u001b[39;49m\u001b[38;5;124;43msrc/sbmlsim/data/NC_000962.3.gbk.gz\u001b[39;49m\u001b[38;5;124;43m\"\u001b[39;49m\u001b[43m)\u001b[49m\n",
      "File \u001b[0;32m~/Desktop/DPhil/Comp Disc/Repositories/sbmlsim/src/sbmlsim/Batch.py:54\u001b[0m, in \u001b[0;36mBatch.__init__\u001b[0;34m(self, gene, drug, catalogue_file, genbank_file, resistant_mutations, susceptible_mutations)\u001b[0m\n\u001b[1;32m     50\u001b[0m \u001b[38;5;28;01massert\u001b[39;00m \u001b[38;5;28mbool\u001b[39m(catalogue_file) \u001b[38;5;241m!=\u001b[39m \u001b[38;5;28mbool\u001b[39m(resistant_mutations\n\u001b[1;32m     51\u001b[0m             ), \u001b[38;5;124m\"\u001b[39m\u001b[38;5;124mEither catalogue_file or resistant_mutations must be specified\u001b[39m\u001b[38;5;124m\"\u001b[39m\n\u001b[1;32m     53\u001b[0m \u001b[38;5;28;01mif\u001b[39;00m catalogue_file:\n\u001b[0;32m---> 54\u001b[0m     \u001b[38;5;28;01massert\u001b[39;00m susceptible_mutations \u001b[38;5;129;01mis\u001b[39;00m \u001b[38;5;28;01mNone\u001b[39;00m, \u001b[38;5;124m\"\u001b[39m\u001b[38;5;124msusceptible_mutations will not be used if a catalogue file is provided\u001b[39m\u001b[38;5;124m\"\u001b[39m\n\u001b[1;32m     56\u001b[0m \u001b[38;5;28;01mif\u001b[39;00m catalogue_file \u001b[38;5;129;01mis\u001b[39;00m \u001b[38;5;129;01mnot\u001b[39;00m \u001b[38;5;28;01mNone\u001b[39;00m:\n\u001b[1;32m     57\u001b[0m     \u001b[38;5;28mself\u001b[39m\u001b[38;5;241m.\u001b[39mcatalogue \u001b[38;5;241m=\u001b[39m piezo\u001b[38;5;241m.\u001b[39mResistanceCatalogue(catalogue_file)\n",
      "\u001b[0;31mAssertionError\u001b[0m: susceptible_mutations will not be used if a catalogue file is provided"
     ]
    }
   ],
   "source": [
    "sbmlsim.Batch(gene=\"pncA\", \n",
    "              drug=\"PZA\", \n",
    "            #   catalogue_file='NC_000962.3_WHO-UCN-GTB-PCI-2021.7_v1.0_GARC1_RUS.csv',\n",
    "              resistant_mutations= ['pncA@A1V'],\n",
    "              susceptible_mutations= ['pncA@G1A'],\n",
    "              genbank_file=\"src/sbmlsim/data/NC_000962.3.gbk.gz\")"
   ]
  },
  {
   "cell_type": "code",
   "execution_count": null,
   "metadata": {},
   "outputs": [],
   "source": []
  }
 ],
 "metadata": {
  "kernelspec": {
   "display_name": "Python 3",
   "language": "python",
   "name": "python3"
  },
  "language_info": {
   "codemirror_mode": {
    "name": "ipython",
    "version": 3
   },
   "file_extension": ".py",
   "mimetype": "text/x-python",
   "name": "python",
   "nbconvert_exporter": "python",
   "pygments_lexer": "ipython3",
   "version": "3.12.0"
  }
 },
 "nbformat": 4,
 "nbformat_minor": 2
}
